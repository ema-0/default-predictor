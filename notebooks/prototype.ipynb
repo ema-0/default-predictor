{
 "cells": [
  {
   "cell_type": "markdown",
   "id": "d8f4d1aa-10eb-4b31-abdb-d0e058a62759",
   "metadata": {},
   "source": [
    "## Summary\n",
    "\n",
    "1. Overview\n",
    "2. Dependecies and path parameters\n",
    "3. Data import\n",
    "4. Quality check\n",
    "5. The model\n",
    "    - Data pre-processing\n",
    "    - Model development\n",
    "    - Performance evaluation\n",
    "4. Prediction on unlabelled data\n",
    "5. Model saving"
   ]
  },
  {
   "cell_type": "markdown",
   "id": "644cbb5d-6472-45f1-b5a7-5ae6e92c899d",
   "metadata": {},
   "source": [
    "# 1. Overview"
   ]
  },
  {
   "cell_type": "markdown",
   "id": "044ced90-b8ca-4cf0-95e9-42a91c8638eb",
   "metadata": {},
   "source": [
    "In scope of predict the default probabilty for a given account, given several predictors, I built a sequential Neural Network.\n",
    "\n",
    "At a first look, the input data contains a lot of NULL values, so they have to be taken into account in the model, I cannot just remove them.\n",
    "\n",
    "To develop the NN I used Keras framework, based on Tensorflow. Many predictors are categorical, so I had to encode them with one-hot key method to fit the expected format. Moreover, to be able to correctly encode future new data and make predictions on them, I had to save the categories.\n",
    "\n",
    "The Net has a initial masking layer, to take into account the NULL values mentioned before. I tuned the hyperparametes (mainly number of layers, number of neurons and optimizer) to improve the performance as much as possible. Accuracy is not a good indicator of the goodness of the model, because the 2 classes (Default=TRUE and Default=FALSE) are very unbalanced, so a dummy model that predicts always Default=FALSE has a good accuracy. For this reason, I used the metrics Precision and Recall as goodness indicator. For the same reason, I added weights based on the class numerosity to the fit function.\n",
    "\n",
    "Because the large number of parameters, a regularizer has been necessary, otherwise the performance on the dev set would have been very poor.\n",
    "\n",
    "Finally, I made predicton on unlabelled data.\n",
    "\n",
    "The model and the list of predictors are saved directly in the folder used to build the Docker image."
   ]
  },
  {
   "cell_type": "markdown",
   "id": "2461ac27-c0ba-436b-ad23-17f78b8acd31",
   "metadata": {},
   "source": [
    "# 2. Dependecies and path parameters"
   ]
  },
  {
   "cell_type": "code",
   "execution_count": 30,
   "id": "2da8fa79-bc6b-4b48-8df6-806928fb6cde",
   "metadata": {},
   "outputs": [],
   "source": [
    "import matplotlib.pyplot as plt\n",
    "import pandas as pd\n",
    "import numpy as np\n",
    "import pickle\n",
    "from keras.utils import to_categorical\n",
    "from keras import metrics"
   ]
  },
  {
   "cell_type": "code",
   "execution_count": 31,
   "id": "e7a64f6a-060b-4ed9-bbe6-45337c00e8f0",
   "metadata": {},
   "outputs": [],
   "source": [
    "input_folder_path='./../data/'\n",
    "output_folder_path='./../lambda_default_predictor/trained_model/'\n",
    "\n",
    "input_file_name = 'dataset.csv'\n",
    "output_file_name = 'predictions.csv'"
   ]
  },
  {
   "cell_type": "markdown",
   "id": "4b5c83ff-8bb6-4749-8047-9f247d35d44a",
   "metadata": {},
   "source": [
    "# 3. Data import"
   ]
  },
  {
   "cell_type": "code",
   "execution_count": 32,
   "id": "6089b917-2bfa-4f5b-9aee-9f2aff0df7b3",
   "metadata": {},
   "outputs": [],
   "source": [
    "input_df = pd.read_csv(input_folder_path+input_file_name, sep=';')"
   ]
  },
  {
   "cell_type": "code",
   "execution_count": 33,
   "id": "e917f78f-fb74-4838-85c1-858cf4278b65",
   "metadata": {
    "tags": []
   },
   "outputs": [
    {
     "data": {
      "text/html": [
       "<div>\n",
       "<style scoped>\n",
       "    .dataframe tbody tr th:only-of-type {\n",
       "        vertical-align: middle;\n",
       "    }\n",
       "\n",
       "    .dataframe tbody tr th {\n",
       "        vertical-align: top;\n",
       "    }\n",
       "\n",
       "    .dataframe thead th {\n",
       "        text-align: right;\n",
       "    }\n",
       "</style>\n",
       "<table border=\"1\" class=\"dataframe\">\n",
       "  <thead>\n",
       "    <tr style=\"text-align: right;\">\n",
       "      <th></th>\n",
       "      <th>uuid</th>\n",
       "      <th>default</th>\n",
       "      <th>account_amount_added_12_24m</th>\n",
       "      <th>account_days_in_dc_12_24m</th>\n",
       "      <th>account_days_in_rem_12_24m</th>\n",
       "      <th>account_days_in_term_12_24m</th>\n",
       "      <th>account_incoming_debt_vs_paid_0_24m</th>\n",
       "      <th>account_status</th>\n",
       "      <th>account_worst_status_0_3m</th>\n",
       "      <th>account_worst_status_12_24m</th>\n",
       "      <th>...</th>\n",
       "      <th>status_3rd_last_archived_0_24m</th>\n",
       "      <th>status_max_archived_0_6_months</th>\n",
       "      <th>status_max_archived_0_12_months</th>\n",
       "      <th>status_max_archived_0_24_months</th>\n",
       "      <th>recovery_debt</th>\n",
       "      <th>sum_capital_paid_account_0_12m</th>\n",
       "      <th>sum_capital_paid_account_12_24m</th>\n",
       "      <th>sum_paid_inv_0_12m</th>\n",
       "      <th>time_hours</th>\n",
       "      <th>worst_status_active_inv</th>\n",
       "    </tr>\n",
       "  </thead>\n",
       "  <tbody>\n",
       "    <tr>\n",
       "      <th>0</th>\n",
       "      <td>63f69b2c-8b1c-4740-b78d-52ed9a4515ac</td>\n",
       "      <td>0.0</td>\n",
       "      <td>0</td>\n",
       "      <td>0.0</td>\n",
       "      <td>0.0</td>\n",
       "      <td>0.0</td>\n",
       "      <td>0.0</td>\n",
       "      <td>1.0</td>\n",
       "      <td>1.0</td>\n",
       "      <td>NaN</td>\n",
       "      <td>...</td>\n",
       "      <td>1</td>\n",
       "      <td>1</td>\n",
       "      <td>1</td>\n",
       "      <td>1</td>\n",
       "      <td>0</td>\n",
       "      <td>0</td>\n",
       "      <td>0</td>\n",
       "      <td>178839</td>\n",
       "      <td>9.653333</td>\n",
       "      <td>1.0</td>\n",
       "    </tr>\n",
       "    <tr>\n",
       "      <th>1</th>\n",
       "      <td>0e961183-8c15-4470-9a5e-07a1bd207661</td>\n",
       "      <td>0.0</td>\n",
       "      <td>0</td>\n",
       "      <td>0.0</td>\n",
       "      <td>0.0</td>\n",
       "      <td>0.0</td>\n",
       "      <td>NaN</td>\n",
       "      <td>1.0</td>\n",
       "      <td>1.0</td>\n",
       "      <td>1.0</td>\n",
       "      <td>...</td>\n",
       "      <td>1</td>\n",
       "      <td>1</td>\n",
       "      <td>2</td>\n",
       "      <td>2</td>\n",
       "      <td>0</td>\n",
       "      <td>0</td>\n",
       "      <td>0</td>\n",
       "      <td>49014</td>\n",
       "      <td>13.181389</td>\n",
       "      <td>NaN</td>\n",
       "    </tr>\n",
       "  </tbody>\n",
       "</table>\n",
       "<p>2 rows × 43 columns</p>\n",
       "</div>"
      ],
      "text/plain": [
       "                                   uuid  default  account_amount_added_12_24m  \\\n",
       "0  63f69b2c-8b1c-4740-b78d-52ed9a4515ac      0.0                            0   \n",
       "1  0e961183-8c15-4470-9a5e-07a1bd207661      0.0                            0   \n",
       "\n",
       "   account_days_in_dc_12_24m  account_days_in_rem_12_24m  \\\n",
       "0                        0.0                         0.0   \n",
       "1                        0.0                         0.0   \n",
       "\n",
       "   account_days_in_term_12_24m  account_incoming_debt_vs_paid_0_24m  \\\n",
       "0                          0.0                                  0.0   \n",
       "1                          0.0                                  NaN   \n",
       "\n",
       "   account_status  account_worst_status_0_3m  account_worst_status_12_24m  \\\n",
       "0             1.0                        1.0                          NaN   \n",
       "1             1.0                        1.0                          1.0   \n",
       "\n",
       "   ...  status_3rd_last_archived_0_24m  status_max_archived_0_6_months  \\\n",
       "0  ...                               1                               1   \n",
       "1  ...                               1                               1   \n",
       "\n",
       "   status_max_archived_0_12_months  status_max_archived_0_24_months  \\\n",
       "0                                1                                1   \n",
       "1                                2                                2   \n",
       "\n",
       "   recovery_debt sum_capital_paid_account_0_12m  \\\n",
       "0              0                              0   \n",
       "1              0                              0   \n",
       "\n",
       "  sum_capital_paid_account_12_24m  sum_paid_inv_0_12m  time_hours  \\\n",
       "0                               0              178839    9.653333   \n",
       "1                               0               49014   13.181389   \n",
       "\n",
       "   worst_status_active_inv  \n",
       "0                      1.0  \n",
       "1                      NaN  \n",
       "\n",
       "[2 rows x 43 columns]"
      ]
     },
     "execution_count": 33,
     "metadata": {},
     "output_type": "execute_result"
    }
   ],
   "source": [
    "input_df.head(2)"
   ]
  },
  {
   "cell_type": "code",
   "execution_count": 34,
   "id": "820133e8-14f0-4cff-8568-b76e78c97f70",
   "metadata": {},
   "outputs": [],
   "source": [
    "unlabelled_df = input_df[input_df.default.isna()].drop(columns=['default'])"
   ]
  },
  {
   "cell_type": "code",
   "execution_count": 35,
   "id": "7eee61b6-d6fb-45d2-9459-57d16412bc91",
   "metadata": {},
   "outputs": [],
   "source": [
    "df = input_df[input_df.default.notna()]"
   ]
  },
  {
   "cell_type": "code",
   "execution_count": 36,
   "id": "18554682-1414-4d82-adfd-da0358938d14",
   "metadata": {},
   "outputs": [
    {
     "data": {
      "text/plain": [
       "((99976, 43), (10000, 42), (89976, 43))"
      ]
     },
     "execution_count": 36,
     "metadata": {},
     "output_type": "execute_result"
    }
   ],
   "source": [
    "input_df.shape, unlabelled_df.shape, df.shape"
   ]
  },
  {
   "cell_type": "code",
   "execution_count": 37,
   "id": "eb5b27a5-4c34-4744-ae8a-aaa4c1bd098f",
   "metadata": {},
   "outputs": [],
   "source": [
    "numerics_columns = ['account_amount_added_12_24m',\n",
    "       'account_days_in_dc_12_24m', 'account_days_in_rem_12_24m',\n",
    "       'account_days_in_term_12_24m', 'account_incoming_debt_vs_paid_0_24m', 'age', 'avg_payment_span_0_12m',\n",
    "       'avg_payment_span_0_3m',\n",
    "       'has_paid', 'max_paid_inv_0_12m', 'max_paid_inv_0_24m',\n",
    "       'num_active_div_by_paid_inv_0_12m', 'num_active_inv',\n",
    "       'num_arch_dc_0_12m', 'num_arch_dc_12_24m', 'num_arch_ok_0_12m',\n",
    "       'num_arch_ok_12_24m', 'num_arch_rem_0_12m',\n",
    "       'num_arch_written_off_0_12m', 'num_arch_written_off_12_24m',\n",
    "       'num_unpaid_bills', 'recovery_debt',\n",
    "       'sum_capital_paid_account_0_12m', 'sum_capital_paid_account_12_24m',\n",
    "       'sum_paid_inv_0_12m', 'time_hours']\n",
    "categorical_columns = ['account_status', 'account_worst_status_0_3m',\n",
    "       'account_worst_status_12_24m', 'account_worst_status_3_6m',\n",
    "       'account_worst_status_6_12m', 'merchant_category', 'merchant_group','name_in_email',\n",
    "                       'status_last_archived_0_24m',\n",
    "       'status_2nd_last_archived_0_24m', 'status_3rd_last_archived_0_24m',\n",
    "       'status_max_archived_0_6_months', 'status_max_archived_0_12_months',\n",
    "       'status_max_archived_0_24_months', 'worst_status_active_inv']"
   ]
  },
  {
   "cell_type": "markdown",
   "id": "56d51b0a-c5ae-4750-b0cf-bce9c88c82f9",
   "metadata": {},
   "source": [
    "# 4. Quality check"
   ]
  },
  {
   "cell_type": "markdown",
   "id": "535f704b-e014-4762-a968-dc8d7e948ffd",
   "metadata": {},
   "source": [
    "Very unbalances classes:"
   ]
  },
  {
   "cell_type": "code",
   "execution_count": 38,
   "id": "4a9d39fe-7733-4a9b-ba6d-a9fa158afb4b",
   "metadata": {},
   "outputs": [
    {
     "data": {
      "text/plain": [
       "default\n",
       "0.0    88688\n",
       "1.0     1288\n",
       "Name: default, dtype: int64"
      ]
     },
     "execution_count": 38,
     "metadata": {},
     "output_type": "execute_result"
    }
   ],
   "source": [
    "df.groupby('default').default.count()"
   ]
  },
  {
   "cell_type": "markdown",
   "id": "f3847605-0a9d-47a5-b87e-9b74337e023f",
   "metadata": {},
   "source": [
    "A lot of NULL values for some columns:"
   ]
  },
  {
   "cell_type": "code",
   "execution_count": 39,
   "id": "2cba8484-0254-4d27-8cb0-4b726bc6d0b9",
   "metadata": {
    "tags": []
   },
   "outputs": [
    {
     "data": {
      "text/plain": [
       "uuid                                   0.000000\n",
       "default                                0.000000\n",
       "account_amount_added_12_24m            0.000000\n",
       "account_days_in_dc_12_24m              0.118732\n",
       "account_days_in_rem_12_24m             0.118732\n",
       "account_days_in_term_12_24m            0.118732\n",
       "account_incoming_debt_vs_paid_0_24m    0.593014\n",
       "account_status                         0.543856\n",
       "account_worst_status_0_3m              0.543856\n",
       "account_worst_status_12_24m            0.667456\n",
       "account_worst_status_3_6m              0.577243\n",
       "account_worst_status_6_12m             0.603639\n",
       "age                                    0.000000\n",
       "avg_payment_span_0_12m                 0.238597\n",
       "avg_payment_span_0_3m                  0.493265\n",
       "merchant_category                      0.000000\n",
       "merchant_group                         0.000000\n",
       "has_paid                               0.000000\n",
       "max_paid_inv_0_12m                     0.000000\n",
       "max_paid_inv_0_24m                     0.000000\n",
       "name_in_email                          0.000000\n",
       "num_active_div_by_paid_inv_0_12m       0.229595\n",
       "num_active_inv                         0.000000\n",
       "num_arch_dc_0_12m                      0.000000\n",
       "num_arch_dc_12_24m                     0.000000\n",
       "num_arch_ok_0_12m                      0.000000\n",
       "num_arch_ok_12_24m                     0.000000\n",
       "num_arch_rem_0_12m                     0.000000\n",
       "num_arch_written_off_0_12m             0.181215\n",
       "num_arch_written_off_12_24m            0.181215\n",
       "num_unpaid_bills                       0.000000\n",
       "status_last_archived_0_24m             0.000000\n",
       "status_2nd_last_archived_0_24m         0.000000\n",
       "status_3rd_last_archived_0_24m         0.000000\n",
       "status_max_archived_0_6_months         0.000000\n",
       "status_max_archived_0_12_months        0.000000\n",
       "status_max_archived_0_24_months        0.000000\n",
       "recovery_debt                          0.000000\n",
       "sum_capital_paid_account_0_12m         0.000000\n",
       "sum_capital_paid_account_12_24m        0.000000\n",
       "sum_paid_inv_0_12m                     0.000000\n",
       "time_hours                             0.000000\n",
       "worst_status_active_inv                0.695074\n",
       "dtype: float64"
      ]
     },
     "execution_count": 39,
     "metadata": {},
     "output_type": "execute_result"
    }
   ],
   "source": [
    "df.isna().sum(axis=0)/df.shape[0]"
   ]
  },
  {
   "cell_type": "markdown",
   "id": "8fd4c26e-4e81-4859-a845-3a425870a340",
   "metadata": {},
   "source": [
    "# 5. The model"
   ]
  },
  {
   "cell_type": "markdown",
   "id": "7254beb4-509b-4f7a-ae41-b17d6a96cf5e",
   "metadata": {},
   "source": [
    "## 5.1 Data pre-processing"
   ]
  },
  {
   "cell_type": "code",
   "execution_count": 40,
   "id": "264974b9-90bc-4a04-b7b4-ec16e0cc635c",
   "metadata": {},
   "outputs": [],
   "source": [
    "df = df.fillna(-1)"
   ]
  },
  {
   "cell_type": "code",
   "execution_count": 41,
   "id": "2eba45ac-9c3e-43d7-941f-27fe7285c1d4",
   "metadata": {},
   "outputs": [],
   "source": [
    "df_numerics = df[numerics_columns]\n",
    "df_categorical = df[categorical_columns]"
   ]
  },
  {
   "cell_type": "code",
   "execution_count": 42,
   "id": "bb3cf4ab-d49f-4876-8653-22945c0e71bb",
   "metadata": {},
   "outputs": [
    {
     "data": {
      "text/plain": [
       "((89976, 26), (89976, 15))"
      ]
     },
     "execution_count": 42,
     "metadata": {},
     "output_type": "execute_result"
    }
   ],
   "source": [
    "df_numerics.shape, df_categorical.shape"
   ]
  },
  {
   "cell_type": "code",
   "execution_count": 43,
   "id": "37560a82-e13a-4b8b-9059-2eac1fca65fa",
   "metadata": {},
   "outputs": [],
   "source": [
    "one_hot_list=[]\n",
    "categories_dict = {}\n",
    "for col_name in df_categorical:\n",
    "    col = df_categorical[col_name]\n",
    "    categories = list(col.unique())\n",
    "    labels = col.apply(lambda x: categories.index(x)).tolist()\n",
    "    one_hot_list.append(to_categorical(labels))\n",
    "    categories_dict.update({col_name:categories})"
   ]
  },
  {
   "cell_type": "code",
   "execution_count": 44,
   "id": "4960bba8-ea33-4f4f-8215-a0b1c4d58037",
   "metadata": {},
   "outputs": [],
   "source": [
    "one_hot= np.concatenate(one_hot_list, axis=1)"
   ]
  },
  {
   "cell_type": "code",
   "execution_count": 45,
   "id": "20304008-9c71-4b5b-b51c-361c2cff9097",
   "metadata": {},
   "outputs": [
    {
     "data": {
      "text/plain": [
       "(89976, 135)"
      ]
     },
     "execution_count": 45,
     "metadata": {},
     "output_type": "execute_result"
    }
   ],
   "source": [
    "np.shape(one_hot)"
   ]
  },
  {
   "cell_type": "code",
   "execution_count": 46,
   "id": "ee2006dc-af35-4e23-a831-511e7a6295f9",
   "metadata": {},
   "outputs": [],
   "source": [
    "X = np.concatenate([df_numerics.values, one_hot], axis=1)"
   ]
  },
  {
   "cell_type": "code",
   "execution_count": 47,
   "id": "0a21d1bc-13ea-42aa-b1b5-2fcbe6de3d41",
   "metadata": {},
   "outputs": [
    {
     "data": {
      "text/plain": [
       "(89976, 161)"
      ]
     },
     "execution_count": 47,
     "metadata": {},
     "output_type": "execute_result"
    }
   ],
   "source": [
    "np.shape(X)"
   ]
  },
  {
   "cell_type": "markdown",
   "id": "ea5277eb-4d70-4913-ada1-6fc5efb30808",
   "metadata": {},
   "source": [
    "## 5.2 Model development"
   ]
  },
  {
   "cell_type": "code",
   "execution_count": 48,
   "id": "a4cc835a-712b-4638-8f7f-95a096e6020f",
   "metadata": {},
   "outputs": [],
   "source": [
    "y = df['default'].to_numpy()"
   ]
  },
  {
   "cell_type": "code",
   "execution_count": 49,
   "id": "7c891ede-a49f-4bde-a2fd-ee09f2489d49",
   "metadata": {},
   "outputs": [],
   "source": [
    "y = y.reshape(len(y),1)"
   ]
  },
  {
   "cell_type": "code",
   "execution_count": 50,
   "id": "724c1420-bbf4-4285-bc45-edc5bb049958",
   "metadata": {},
   "outputs": [
    {
     "data": {
      "text/plain": [
       "(89976, 1)"
      ]
     },
     "execution_count": 50,
     "metadata": {},
     "output_type": "execute_result"
    }
   ],
   "source": [
    "np.shape(y)"
   ]
  },
  {
   "cell_type": "code",
   "execution_count": null,
   "id": "f592383b-6479-4002-8bec-9e5bda0dca3e",
   "metadata": {},
   "outputs": [],
   "source": [
    "test_size = 20000"
   ]
  },
  {
   "cell_type": "code",
   "execution_count": null,
   "id": "dc7bcccc-1ada-4d86-9ef2-2ce514c26a4b",
   "metadata": {},
   "outputs": [],
   "source": [
    "X_train = X[:-test_size].astype('float32')\n",
    "y_train = y[:-test_size]"
   ]
  },
  {
   "cell_type": "code",
   "execution_count": null,
   "id": "a22b5722-6213-4482-afa8-0952cd19258c",
   "metadata": {},
   "outputs": [],
   "source": [
    "np.shape(y_train)"
   ]
  },
  {
   "cell_type": "code",
   "execution_count": null,
   "id": "5b70e445-bcae-45b0-ba25-d0cdfa739e82",
   "metadata": {},
   "outputs": [],
   "source": [
    "X_test = X[-test_size:].astype('float32')\n",
    "y_test = y[-test_size:]"
   ]
  },
  {
   "cell_type": "code",
   "execution_count": null,
   "id": "875de14a-a048-4e92-8cc5-c3e18a2a28bb",
   "metadata": {},
   "outputs": [],
   "source": [
    "from keras import models, layers, regularizers"
   ]
  },
  {
   "cell_type": "code",
   "execution_count": null,
   "id": "cf81fccc-05ed-4ecd-82dc-49e61b8dc9a2",
   "metadata": {},
   "outputs": [],
   "source": [
    "model = models.Sequential()\n",
    "model.add(layers.Masking(mask_value=-1,input_shape=(np.shape(X)[1],)))\n",
    "model.add(layers.Dense(128, activation='relu', kernel_regularizer=regularizers.l1_l2(l1=1e-5, l2=1e-4)))\n",
    "model.add(layers.Dense(128, activation='relu', kernel_regularizer=regularizers.l1_l2(l1=1e-5, l2=1e-4)))\n",
    "model.add(layers.Dense(128, activation='relu'))\n",
    "#model.add(layers.Dense(128, activation='relu'))\n",
    "#model.add(layers.Dense(128, activation='relu'))\n",
    "model.add(layers.Dense(1, activation='sigmoid'))"
   ]
  },
  {
   "cell_type": "code",
   "execution_count": null,
   "id": "a7e4e601-0f24-48ed-9b7a-63eeaceb22b3",
   "metadata": {},
   "outputs": [],
   "source": [
    "metrics_list = [\n",
    "    metrics.BinaryAccuracy(name='accuracy'),\n",
    "    metrics.FalseNegatives(name=\"fn\"),\n",
    "    metrics.FalsePositives(name=\"fp\"),\n",
    "    metrics.TrueNegatives(name=\"tn\"),\n",
    "    metrics.TruePositives(name=\"tp\"),\n",
    "    metrics.Precision(name=\"precision\"),\n",
    "    metrics.Recall(name=\"recall\"),\n",
    "]"
   ]
  },
  {
   "cell_type": "code",
   "execution_count": null,
   "id": "a61ac056-2883-4a74-966b-be8d783a493d",
   "metadata": {},
   "outputs": [],
   "source": [
    "#metrics_list = [ metrics.BinaryAccuracy(name='accuracy')]"
   ]
  },
  {
   "cell_type": "code",
   "execution_count": null,
   "id": "3237ad5c-33ea-4418-bb21-82e39ea453bb",
   "metadata": {},
   "outputs": [],
   "source": [
    "from keras import optimizers"
   ]
  },
  {
   "cell_type": "code",
   "execution_count": null,
   "id": "a94de696-6ea9-472a-b5e8-b077d93bfb32",
   "metadata": {},
   "outputs": [],
   "source": [
    "opt = optimizers.Adam(learning_rate=0.001)"
   ]
  },
  {
   "cell_type": "code",
   "execution_count": null,
   "id": "581fe09f-7ae1-4f92-a948-bbc4971aeba6",
   "metadata": {},
   "outputs": [],
   "source": [
    "model.compile(optimizer='rmsprop',\n",
    "              loss='binary_crossentropy',\n",
    "              metrics=metrics_list)"
   ]
  },
  {
   "cell_type": "code",
   "execution_count": null,
   "id": "c10069fb-e6b7-4ac8-8162-a71503ba41a6",
   "metadata": {},
   "outputs": [],
   "source": [
    "counts = df.groupby('default').default.count().to_numpy()"
   ]
  },
  {
   "cell_type": "code",
   "execution_count": null,
   "id": "b5d554f1-fdc3-4a97-81a0-4f78bce5449d",
   "metadata": {},
   "outputs": [],
   "source": [
    "weight_for_0 = 1.0 / counts[0]\n",
    "weight_for_1 = 1.0 / counts[1]"
   ]
  },
  {
   "cell_type": "code",
   "execution_count": null,
   "id": "7c2bbd7e-8285-45ea-8452-db69c0f9fa56",
   "metadata": {
    "tags": []
   },
   "outputs": [],
   "source": [
    "history = model.fit(X_train,\n",
    "                    y_train,\n",
    "                    epochs=20,\n",
    "                    batch_size=512,\n",
    "                    validation_split=0.1,\n",
    "                   class_weight = {0: weight_for_0, 1: weight_for_1})"
   ]
  },
  {
   "cell_type": "markdown",
   "id": "6f4c8426-ab88-4734-be13-e32cf7ca16ae",
   "metadata": {},
   "source": [
    "## 5.3 Performance evaluation"
   ]
  },
  {
   "cell_type": "code",
   "execution_count": null,
   "id": "59e1fee5-2835-4b56-97f0-21c97ac4e39d",
   "metadata": {
    "tags": []
   },
   "outputs": [],
   "source": [
    "loss = history.history['loss']\n",
    "val_loss = history.history['val_loss']\n",
    "\n",
    "epochs = range(1, len(loss) + 1)\n",
    "\n",
    "plt.figure(figsize=(20,10))\n",
    "plt.grid()\n",
    "plt.plot(epochs, loss, 'red', label='Training loss')\n",
    "plt.plot(epochs, val_loss, 'blue', label='Validation loss')\n",
    "plt.title('Training and validation loss')\n",
    "plt.xlabel('Epochs')\n",
    "plt.ylabel('Loss')\n",
    "plt.legend()\n",
    "\n",
    "plt.show()"
   ]
  },
  {
   "cell_type": "code",
   "execution_count": null,
   "id": "387b1f4b-d600-4521-bf2f-835df82c5970",
   "metadata": {},
   "outputs": [],
   "source": [
    "history.history.keys()"
   ]
  },
  {
   "cell_type": "code",
   "execution_count": null,
   "id": "8427f3a0-87f8-4290-adba-033e6808c9f7",
   "metadata": {},
   "outputs": [],
   "source": [
    "acc = history.history['accuracy']\n",
    "val_acc = history.history['val_accuracy']\n",
    "\n",
    "epochs = range(1, len(acc) + 1)\n",
    "\n",
    "plt.figure(figsize=(20,10))\n",
    "plt.grid();\n",
    "plt.plot(epochs, acc, 'red', label='Training accuracy')\n",
    "plt.plot(epochs, val_acc, 'blue', label='Validation accuracy')\n",
    "plt.title('Training and validation accuracy')\n",
    "plt.xlabel('Epochs')\n",
    "plt.ylabel('Loss')\n",
    "plt.legend()\n",
    "\n",
    "plt.show()"
   ]
  },
  {
   "cell_type": "code",
   "execution_count": null,
   "id": "aa01b7c7-ec27-4e4a-8430-833fce40b3b7",
   "metadata": {},
   "outputs": [],
   "source": [
    "acc = history.history['precision']\n",
    "val_acc = history.history['val_precision']\n",
    "\n",
    "epochs = range(1, len(acc) + 1)\n",
    "\n",
    "plt.figure(figsize=(20,10))\n",
    "plt.grid();\n",
    "plt.plot(epochs, acc, 'red', label='Training accuracy')\n",
    "plt.plot(epochs, val_acc, 'blue', label='Validation accuracy')\n",
    "plt.title('Training and validation accuracy')\n",
    "plt.xlabel('Epochs')\n",
    "plt.ylabel('Loss')\n",
    "plt.legend()\n",
    "\n",
    "plt.show()"
   ]
  },
  {
   "cell_type": "code",
   "execution_count": null,
   "id": "1ef318bb-3336-4e2a-ac64-7b5f561b30bd",
   "metadata": {},
   "outputs": [],
   "source": [
    "acc = history.history['recall']\n",
    "val_acc = history.history['val_recall']\n",
    "\n",
    "epochs = range(1, len(acc) + 1)\n",
    "\n",
    "plt.figure(figsize=(20,10))\n",
    "plt.grid();\n",
    "plt.plot(epochs, acc, 'red', label='Training accuracy')\n",
    "plt.plot(epochs, val_acc, 'blue', label='Validation accuracy')\n",
    "plt.title('Training and validation accuracy')\n",
    "plt.xlabel('Epochs')\n",
    "plt.ylabel('Loss')\n",
    "plt.legend()\n",
    "\n",
    "plt.show()"
   ]
  },
  {
   "cell_type": "code",
   "execution_count": null,
   "id": "42b9d4d2-74f6-4c09-a808-f03297a9b2e1",
   "metadata": {},
   "outputs": [],
   "source": [
    "model.evaluate(X_test, y_test)"
   ]
  },
  {
   "cell_type": "code",
   "execution_count": null,
   "id": "b549b1e2-4e45-4976-8f21-c6ee87f77cbd",
   "metadata": {},
   "outputs": [],
   "source": [
    "plt.hist(model.predict(X_test))"
   ]
  },
  {
   "cell_type": "code",
   "execution_count": null,
   "id": "21da9770-3d30-445b-887b-84ccd19ac963",
   "metadata": {},
   "outputs": [],
   "source": [
    "y_pred = model.predict(X_test)"
   ]
  },
  {
   "cell_type": "code",
   "execution_count": null,
   "id": "be76de58-727f-438a-b95c-8f6378529b82",
   "metadata": {},
   "outputs": [],
   "source": [
    "type(X_test)"
   ]
  },
  {
   "cell_type": "code",
   "execution_count": null,
   "id": "b79d45c3-0eb1-4e9e-8a61-7a52806254ea",
   "metadata": {},
   "outputs": [],
   "source": [
    "sum(y_pred>0.5)"
   ]
  },
  {
   "cell_type": "code",
   "execution_count": null,
   "id": "2a0364bb-de2e-4ca0-86f0-75079c631746",
   "metadata": {},
   "outputs": [],
   "source": [
    "y_pred"
   ]
  },
  {
   "cell_type": "code",
   "execution_count": null,
   "id": "87c1e728-e84e-489a-ab6a-a8005d1e66b7",
   "metadata": {},
   "outputs": [],
   "source": [
    "sum(y_test)"
   ]
  },
  {
   "cell_type": "markdown",
   "id": "db74e228-5d61-4b8d-bec8-fa5f82fac79b",
   "metadata": {},
   "source": [
    "## saving the prototype"
   ]
  },
  {
   "cell_type": "code",
   "execution_count": null,
   "id": "02bf38c6-ac98-4d94-81f0-2d3e42551f1e",
   "metadata": {},
   "outputs": [],
   "source": [
    "model.save(output_folder_path+'nn/')"
   ]
  },
  {
   "cell_type": "code",
   "execution_count": null,
   "id": "472b0835-352e-4b92-afa0-7083922ac750",
   "metadata": {},
   "outputs": [],
   "source": [
    "with open(output_folder_path+'categories.txt', \"wb\") as fp:\n",
    "    pickle.dump(categories_dict, fp)"
   ]
  },
  {
   "cell_type": "code",
   "execution_count": null,
   "id": "58c4c843-47b6-48b8-a486-4a807135a64e",
   "metadata": {},
   "outputs": [],
   "source": [
    "with open(output_folder_path+'numerics_columns.txt', \"wb\") as fp:\n",
    "    pickle.dump(list(set(numerics_columns) & set(df.columns)), fp)"
   ]
  },
  {
   "cell_type": "code",
   "execution_count": null,
   "id": "f5cc5ee0-97c7-49fc-aca0-95ee31ddfb92",
   "metadata": {},
   "outputs": [],
   "source": [
    "# add prediction on the null rows"
   ]
  },
  {
   "cell_type": "code",
   "execution_count": null,
   "id": "1523d41b-5ab0-4501-a74b-b5b63cc4042f",
   "metadata": {},
   "outputs": [],
   "source": [
    "from keras.models import load_model"
   ]
  },
  {
   "cell_type": "code",
   "execution_count": null,
   "id": "438345e9-1996-46ae-a92a-541630ce412a",
   "metadata": {},
   "outputs": [],
   "source": [
    "model = load_model(output_folder_path + 'nn/')"
   ]
  },
  {
   "cell_type": "code",
   "execution_count": null,
   "id": "bf41616f-4d9c-4978-81c4-e576bbd9cce0",
   "metadata": {},
   "outputs": [],
   "source": [
    "model.save(output_folder_path+'mymodel.h5',include_optimizer=False, save_traces=False)"
   ]
  },
  {
   "cell_type": "code",
   "execution_count": null,
   "id": "9e4fc9e9-74f2-44cb-8845-93bec59e15d9",
   "metadata": {},
   "outputs": [],
   "source": [
    "output_folder_path"
   ]
  },
  {
   "cell_type": "code",
   "execution_count": null,
   "id": "7029822c-3e12-4a4d-b973-5efc52f38029",
   "metadata": {},
   "outputs": [],
   "source": [
    "model = load_model(output_folder_path+'mymodel.h5')"
   ]
  },
  {
   "cell_type": "code",
   "execution_count": null,
   "id": "1c9f5b87-e7c2-4dca-8651-5ec158ff0c0b",
   "metadata": {},
   "outputs": [],
   "source": [
    "model"
   ]
  },
  {
   "cell_type": "code",
   "execution_count": null,
   "id": "a012bc4f-c9d8-4175-897e-5cbd2706fde9",
   "metadata": {},
   "outputs": [],
   "source": [
    "output_folder_path='./../trained_model/'"
   ]
  },
  {
   "cell_type": "code",
   "execution_count": null,
   "id": "afdd40b4-34bc-4751-8d0e-2bc277f78f49",
   "metadata": {},
   "outputs": [],
   "source": [
    "import tensorflow as tf"
   ]
  },
  {
   "cell_type": "code",
   "execution_count": null,
   "id": "ac8bc2cb-155e-48d5-a8d4-c173c37d1008",
   "metadata": {},
   "outputs": [],
   "source": [
    "tf.keras.models.load_model(output_folder_path + 'nn/')"
   ]
  },
  {
   "cell_type": "code",
   "execution_count": null,
   "id": "37ff15de-b679-4644-8df3-bb9427a0e993",
   "metadata": {},
   "outputs": [],
   "source": [
    "tf.__version__"
   ]
  },
  {
   "cell_type": "code",
   "execution_count": null,
   "id": "d7d0eefd-3825-4f45-b710-2a90b93fa9d0",
   "metadata": {},
   "outputs": [],
   "source": [
    "model_json = model.to_json()\n",
    "with open(\"model.json\", \"w\") as json_file:\n",
    "    json_file.write(model_json)\n",
    "# serialize weights to HDF5\n",
    "model.save_weights(\"model.h5\")\n",
    "print(\"Saved model to disk\")"
   ]
  },
  {
   "cell_type": "code",
   "execution_count": null,
   "id": "a2f03cf4-e7c4-48bf-8542-52a53238a7c6",
   "metadata": {},
   "outputs": [],
   "source": []
  }
 ],
 "metadata": {
  "kernelspec": {
   "display_name": "Python 3 (ipykernel)",
   "language": "python",
   "name": "python3"
  },
  "language_info": {
   "codemirror_mode": {
    "name": "ipython",
    "version": 3
   },
   "file_extension": ".py",
   "mimetype": "text/x-python",
   "name": "python",
   "nbconvert_exporter": "python",
   "pygments_lexer": "ipython3",
   "version": "3.9.7"
  }
 },
 "nbformat": 4,
 "nbformat_minor": 5
}
