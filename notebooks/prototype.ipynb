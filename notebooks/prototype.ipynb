{
 "cells": [
  {
   "cell_type": "markdown",
   "id": "d8f4d1aa-10eb-4b31-abdb-d0e058a62759",
   "metadata": {},
   "source": [
    "## Summary\n",
    "\n",
    "1. Overview\n",
    "2. Dependecies and parameters\n",
    "3. Data import\n",
    "4. Quality check\n",
    "5. The model\n",
    "    - Data pre-processing\n",
    "    - Model development\n",
    "    - Performance evaluation\n",
    "4. Prediction on unlabelled data\n",
    "5. Model saving"
   ]
  },
  {
   "cell_type": "markdown",
   "id": "644cbb5d-6472-45f1-b5a7-5ae6e92c899d",
   "metadata": {},
   "source": [
    "# 1. Overview"
   ]
  },
  {
   "cell_type": "markdown",
   "id": "044ced90-b8ca-4cf0-95e9-42a91c8638eb",
   "metadata": {},
   "source": [
    "In scope of predict the default probabilty for a given account, given several predictors, I built a sequential Neural Network.\n",
    "\n",
    "At a first look, the input data contains a lot of NULL values, so they have to be taken into account in the model, I cannot just remove them.\n",
    "\n",
    "To develop the NN I used Keras framework, based on Tensorflow. Many predictors are categorical, so I had to encode them with one-hot key method to fit the expected format. Moreover, to be able to correctly encode future new data and make predictions on them, I had to save the categories.\n",
    "\n",
    "The Net has a initial masking layer, to take into account the NULL values mentioned before. I tuned the hyperparametes (mainly number of layers, number of neurons and optimizer) to improve the performance as much as possible. Accuracy is not a good indicator of the goodness of the model, because the 2 classes (Default=TRUE and Default=FALSE) are very unbalanced, so a dummy model that predicts always Default=FALSE has a good accuracy. For this reason, I used the metrics Precision and Recall as goodness indicator. For the same reason, I added weights based on the class numerosity to the fit function.\n",
    "\n",
    "Because the large number of parameters, a regularizer has been necessary, otherwise the performance on the dev set would have been very poor.\n",
    "\n",
    "Finally, I made predicton on unlabelled data.\n",
    "\n",
    "The model and the list of predictors are saved directly in the folder used to build the Docker image."
   ]
  },
  {
   "cell_type": "markdown",
   "id": "2461ac27-c0ba-436b-ad23-17f78b8acd31",
   "metadata": {},
   "source": [
    "# 2. Dependecies and parameters"
   ]
  },
  {
   "cell_type": "code",
   "execution_count": 1,
   "id": "2da8fa79-bc6b-4b48-8df6-806928fb6cde",
   "metadata": {},
   "outputs": [],
   "source": [
    "import matplotlib.pyplot as plt\n",
    "import pandas as pd\n",
    "import numpy as np\n",
    "import pickle\n",
    "from keras.utils import to_categorical\n",
    "from keras import models, layers, regularizers, metrics, optimizers"
   ]
  },
  {
   "cell_type": "code",
   "execution_count": 2,
   "id": "e7a64f6a-060b-4ed9-bbe6-45337c00e8f0",
   "metadata": {},
   "outputs": [],
   "source": [
    "data_folder_path='./../data/'\n",
    "model_folder_path='./../lambda_default_predictor/trained_model/'\n",
    "\n",
    "input_file_name = 'dataset.csv'\n",
    "output_file_name = 'predictions.csv'"
   ]
  },
  {
   "cell_type": "code",
   "execution_count": 3,
   "id": "8f4484bc-2a5a-47c9-a1a1-6b302741b4c2",
   "metadata": {},
   "outputs": [],
   "source": [
    "test_size = 20000"
   ]
  },
  {
   "cell_type": "markdown",
   "id": "4b5c83ff-8bb6-4749-8047-9f247d35d44a",
   "metadata": {},
   "source": [
    "# 3. Data import"
   ]
  },
  {
   "cell_type": "code",
   "execution_count": 4,
   "id": "6089b917-2bfa-4f5b-9aee-9f2aff0df7b3",
   "metadata": {},
   "outputs": [],
   "source": [
    "input_df = pd.read_csv(data_folder_path+input_file_name, sep=';')"
   ]
  },
  {
   "cell_type": "code",
   "execution_count": 5,
   "id": "e917f78f-fb74-4838-85c1-858cf4278b65",
   "metadata": {
    "tags": []
   },
   "outputs": [
    {
     "data": {
      "text/html": [
       "<div>\n",
       "<style scoped>\n",
       "    .dataframe tbody tr th:only-of-type {\n",
       "        vertical-align: middle;\n",
       "    }\n",
       "\n",
       "    .dataframe tbody tr th {\n",
       "        vertical-align: top;\n",
       "    }\n",
       "\n",
       "    .dataframe thead th {\n",
       "        text-align: right;\n",
       "    }\n",
       "</style>\n",
       "<table border=\"1\" class=\"dataframe\">\n",
       "  <thead>\n",
       "    <tr style=\"text-align: right;\">\n",
       "      <th></th>\n",
       "      <th>uuid</th>\n",
       "      <th>default</th>\n",
       "      <th>account_amount_added_12_24m</th>\n",
       "      <th>account_days_in_dc_12_24m</th>\n",
       "      <th>account_days_in_rem_12_24m</th>\n",
       "      <th>account_days_in_term_12_24m</th>\n",
       "      <th>account_incoming_debt_vs_paid_0_24m</th>\n",
       "      <th>account_status</th>\n",
       "      <th>account_worst_status_0_3m</th>\n",
       "      <th>account_worst_status_12_24m</th>\n",
       "      <th>...</th>\n",
       "      <th>status_3rd_last_archived_0_24m</th>\n",
       "      <th>status_max_archived_0_6_months</th>\n",
       "      <th>status_max_archived_0_12_months</th>\n",
       "      <th>status_max_archived_0_24_months</th>\n",
       "      <th>recovery_debt</th>\n",
       "      <th>sum_capital_paid_account_0_12m</th>\n",
       "      <th>sum_capital_paid_account_12_24m</th>\n",
       "      <th>sum_paid_inv_0_12m</th>\n",
       "      <th>time_hours</th>\n",
       "      <th>worst_status_active_inv</th>\n",
       "    </tr>\n",
       "  </thead>\n",
       "  <tbody>\n",
       "    <tr>\n",
       "      <th>0</th>\n",
       "      <td>63f69b2c-8b1c-4740-b78d-52ed9a4515ac</td>\n",
       "      <td>0.0</td>\n",
       "      <td>0</td>\n",
       "      <td>0.0</td>\n",
       "      <td>0.0</td>\n",
       "      <td>0.0</td>\n",
       "      <td>0.0</td>\n",
       "      <td>1.0</td>\n",
       "      <td>1.0</td>\n",
       "      <td>NaN</td>\n",
       "      <td>...</td>\n",
       "      <td>1</td>\n",
       "      <td>1</td>\n",
       "      <td>1</td>\n",
       "      <td>1</td>\n",
       "      <td>0</td>\n",
       "      <td>0</td>\n",
       "      <td>0</td>\n",
       "      <td>178839</td>\n",
       "      <td>9.653333</td>\n",
       "      <td>1.0</td>\n",
       "    </tr>\n",
       "    <tr>\n",
       "      <th>1</th>\n",
       "      <td>0e961183-8c15-4470-9a5e-07a1bd207661</td>\n",
       "      <td>0.0</td>\n",
       "      <td>0</td>\n",
       "      <td>0.0</td>\n",
       "      <td>0.0</td>\n",
       "      <td>0.0</td>\n",
       "      <td>NaN</td>\n",
       "      <td>1.0</td>\n",
       "      <td>1.0</td>\n",
       "      <td>1.0</td>\n",
       "      <td>...</td>\n",
       "      <td>1</td>\n",
       "      <td>1</td>\n",
       "      <td>2</td>\n",
       "      <td>2</td>\n",
       "      <td>0</td>\n",
       "      <td>0</td>\n",
       "      <td>0</td>\n",
       "      <td>49014</td>\n",
       "      <td>13.181389</td>\n",
       "      <td>NaN</td>\n",
       "    </tr>\n",
       "  </tbody>\n",
       "</table>\n",
       "<p>2 rows × 43 columns</p>\n",
       "</div>"
      ],
      "text/plain": [
       "                                   uuid  default  account_amount_added_12_24m  \\\n",
       "0  63f69b2c-8b1c-4740-b78d-52ed9a4515ac      0.0                            0   \n",
       "1  0e961183-8c15-4470-9a5e-07a1bd207661      0.0                            0   \n",
       "\n",
       "   account_days_in_dc_12_24m  account_days_in_rem_12_24m  \\\n",
       "0                        0.0                         0.0   \n",
       "1                        0.0                         0.0   \n",
       "\n",
       "   account_days_in_term_12_24m  account_incoming_debt_vs_paid_0_24m  \\\n",
       "0                          0.0                                  0.0   \n",
       "1                          0.0                                  NaN   \n",
       "\n",
       "   account_status  account_worst_status_0_3m  account_worst_status_12_24m  \\\n",
       "0             1.0                        1.0                          NaN   \n",
       "1             1.0                        1.0                          1.0   \n",
       "\n",
       "   ...  status_3rd_last_archived_0_24m  status_max_archived_0_6_months  \\\n",
       "0  ...                               1                               1   \n",
       "1  ...                               1                               1   \n",
       "\n",
       "   status_max_archived_0_12_months  status_max_archived_0_24_months  \\\n",
       "0                                1                                1   \n",
       "1                                2                                2   \n",
       "\n",
       "   recovery_debt sum_capital_paid_account_0_12m  \\\n",
       "0              0                              0   \n",
       "1              0                              0   \n",
       "\n",
       "  sum_capital_paid_account_12_24m  sum_paid_inv_0_12m  time_hours  \\\n",
       "0                               0              178839    9.653333   \n",
       "1                               0               49014   13.181389   \n",
       "\n",
       "   worst_status_active_inv  \n",
       "0                      1.0  \n",
       "1                      NaN  \n",
       "\n",
       "[2 rows x 43 columns]"
      ]
     },
     "execution_count": 5,
     "metadata": {},
     "output_type": "execute_result"
    }
   ],
   "source": [
    "input_df.head(2)"
   ]
  },
  {
   "cell_type": "code",
   "execution_count": 6,
   "id": "820133e8-14f0-4cff-8568-b76e78c97f70",
   "metadata": {},
   "outputs": [],
   "source": [
    "unlabelled_df = input_df[input_df.default.isna()]"
   ]
  },
  {
   "cell_type": "code",
   "execution_count": 7,
   "id": "7eee61b6-d6fb-45d2-9459-57d16412bc91",
   "metadata": {},
   "outputs": [],
   "source": [
    "df = input_df[input_df.default.notna()]"
   ]
  },
  {
   "cell_type": "code",
   "execution_count": 8,
   "id": "18554682-1414-4d82-adfd-da0358938d14",
   "metadata": {},
   "outputs": [
    {
     "data": {
      "text/plain": [
       "((99976, 43), (10000, 43), (89976, 43))"
      ]
     },
     "execution_count": 8,
     "metadata": {},
     "output_type": "execute_result"
    }
   ],
   "source": [
    "input_df.shape, unlabelled_df.shape, df.shape"
   ]
  },
  {
   "cell_type": "code",
   "execution_count": 9,
   "id": "eb5b27a5-4c34-4744-ae8a-aaa4c1bd098f",
   "metadata": {},
   "outputs": [],
   "source": [
    "numerics_columns = ['account_amount_added_12_24m',\n",
    "       'account_days_in_dc_12_24m', 'account_days_in_rem_12_24m',\n",
    "       'account_days_in_term_12_24m', 'account_incoming_debt_vs_paid_0_24m', 'age', 'avg_payment_span_0_12m',\n",
    "       'avg_payment_span_0_3m',\n",
    "       'has_paid', 'max_paid_inv_0_12m', 'max_paid_inv_0_24m',\n",
    "       'num_active_div_by_paid_inv_0_12m', 'num_active_inv',\n",
    "       'num_arch_dc_0_12m', 'num_arch_dc_12_24m', 'num_arch_ok_0_12m',\n",
    "       'num_arch_ok_12_24m', 'num_arch_rem_0_12m',\n",
    "       'num_arch_written_off_0_12m', 'num_arch_written_off_12_24m',\n",
    "       'num_unpaid_bills', 'recovery_debt',\n",
    "       'sum_capital_paid_account_0_12m', 'sum_capital_paid_account_12_24m',\n",
    "       'sum_paid_inv_0_12m', 'time_hours']\n",
    "categorical_columns = ['account_status', 'account_worst_status_0_3m',\n",
    "       'account_worst_status_12_24m', 'account_worst_status_3_6m',\n",
    "       'account_worst_status_6_12m', 'merchant_category', 'merchant_group','name_in_email',\n",
    "                       'status_last_archived_0_24m',\n",
    "       'status_2nd_last_archived_0_24m', 'status_3rd_last_archived_0_24m',\n",
    "       'status_max_archived_0_6_months', 'status_max_archived_0_12_months',\n",
    "       'status_max_archived_0_24_months', 'worst_status_active_inv']"
   ]
  },
  {
   "cell_type": "markdown",
   "id": "56d51b0a-c5ae-4750-b0cf-bce9c88c82f9",
   "metadata": {},
   "source": [
    "# 4. Quality check"
   ]
  },
  {
   "cell_type": "markdown",
   "id": "535f704b-e014-4762-a968-dc8d7e948ffd",
   "metadata": {},
   "source": [
    "Very unbalances classes:"
   ]
  },
  {
   "cell_type": "code",
   "execution_count": 10,
   "id": "4a9d39fe-7733-4a9b-ba6d-a9fa158afb4b",
   "metadata": {},
   "outputs": [
    {
     "data": {
      "text/plain": [
       "default\n",
       "0.0    88688\n",
       "1.0     1288\n",
       "Name: default, dtype: int64"
      ]
     },
     "execution_count": 10,
     "metadata": {},
     "output_type": "execute_result"
    }
   ],
   "source": [
    "df.groupby('default').default.count()"
   ]
  },
  {
   "cell_type": "markdown",
   "id": "f3847605-0a9d-47a5-b87e-9b74337e023f",
   "metadata": {},
   "source": [
    "A lot of NULL values for some columns:"
   ]
  },
  {
   "cell_type": "code",
   "execution_count": 11,
   "id": "2cba8484-0254-4d27-8cb0-4b726bc6d0b9",
   "metadata": {
    "tags": []
   },
   "outputs": [
    {
     "data": {
      "text/plain": [
       "uuid                                   0.000000\n",
       "default                                0.000000\n",
       "account_amount_added_12_24m            0.000000\n",
       "account_days_in_dc_12_24m              0.118732\n",
       "account_days_in_rem_12_24m             0.118732\n",
       "account_days_in_term_12_24m            0.118732\n",
       "account_incoming_debt_vs_paid_0_24m    0.593014\n",
       "account_status                         0.543856\n",
       "account_worst_status_0_3m              0.543856\n",
       "account_worst_status_12_24m            0.667456\n",
       "account_worst_status_3_6m              0.577243\n",
       "account_worst_status_6_12m             0.603639\n",
       "age                                    0.000000\n",
       "avg_payment_span_0_12m                 0.238597\n",
       "avg_payment_span_0_3m                  0.493265\n",
       "merchant_category                      0.000000\n",
       "merchant_group                         0.000000\n",
       "has_paid                               0.000000\n",
       "max_paid_inv_0_12m                     0.000000\n",
       "max_paid_inv_0_24m                     0.000000\n",
       "name_in_email                          0.000000\n",
       "num_active_div_by_paid_inv_0_12m       0.229595\n",
       "num_active_inv                         0.000000\n",
       "num_arch_dc_0_12m                      0.000000\n",
       "num_arch_dc_12_24m                     0.000000\n",
       "num_arch_ok_0_12m                      0.000000\n",
       "num_arch_ok_12_24m                     0.000000\n",
       "num_arch_rem_0_12m                     0.000000\n",
       "num_arch_written_off_0_12m             0.181215\n",
       "num_arch_written_off_12_24m            0.181215\n",
       "num_unpaid_bills                       0.000000\n",
       "status_last_archived_0_24m             0.000000\n",
       "status_2nd_last_archived_0_24m         0.000000\n",
       "status_3rd_last_archived_0_24m         0.000000\n",
       "status_max_archived_0_6_months         0.000000\n",
       "status_max_archived_0_12_months        0.000000\n",
       "status_max_archived_0_24_months        0.000000\n",
       "recovery_debt                          0.000000\n",
       "sum_capital_paid_account_0_12m         0.000000\n",
       "sum_capital_paid_account_12_24m        0.000000\n",
       "sum_paid_inv_0_12m                     0.000000\n",
       "time_hours                             0.000000\n",
       "worst_status_active_inv                0.695074\n",
       "dtype: float64"
      ]
     },
     "execution_count": 11,
     "metadata": {},
     "output_type": "execute_result"
    }
   ],
   "source": [
    "df.isna().sum(axis=0)/df.shape[0]"
   ]
  },
  {
   "cell_type": "markdown",
   "id": "8fd4c26e-4e81-4859-a845-3a425870a340",
   "metadata": {},
   "source": [
    "# 5. The model"
   ]
  },
  {
   "cell_type": "markdown",
   "id": "7254beb4-509b-4f7a-ae41-b17d6a96cf5e",
   "metadata": {},
   "source": [
    "## 5.1 Data pre-processing"
   ]
  },
  {
   "cell_type": "code",
   "execution_count": 12,
   "id": "264974b9-90bc-4a04-b7b4-ec16e0cc635c",
   "metadata": {},
   "outputs": [],
   "source": [
    "df = df.fillna(-1)"
   ]
  },
  {
   "cell_type": "code",
   "execution_count": 13,
   "id": "2eba45ac-9c3e-43d7-941f-27fe7285c1d4",
   "metadata": {},
   "outputs": [],
   "source": [
    "df_numerics = df[numerics_columns]\n",
    "df_categorical = df[categorical_columns]"
   ]
  },
  {
   "cell_type": "code",
   "execution_count": 14,
   "id": "bb3cf4ab-d49f-4876-8653-22945c0e71bb",
   "metadata": {},
   "outputs": [
    {
     "data": {
      "text/plain": [
       "((89976, 26), (89976, 15))"
      ]
     },
     "execution_count": 14,
     "metadata": {},
     "output_type": "execute_result"
    }
   ],
   "source": [
    "df_numerics.shape, df_categorical.shape"
   ]
  },
  {
   "cell_type": "code",
   "execution_count": 15,
   "id": "37560a82-e13a-4b8b-9059-2eac1fca65fa",
   "metadata": {},
   "outputs": [],
   "source": [
    "one_hot_list=[]\n",
    "categories_dict = {}\n",
    "for col_name in df_categorical:\n",
    "    col = df_categorical[col_name]\n",
    "    categories = list(col.unique())\n",
    "    labels = col.apply(lambda x: categories.index(x)).tolist()\n",
    "    one_hot_list.append(to_categorical(labels))\n",
    "    categories_dict.update({col_name:categories})"
   ]
  },
  {
   "cell_type": "code",
   "execution_count": 16,
   "id": "4960bba8-ea33-4f4f-8215-a0b1c4d58037",
   "metadata": {},
   "outputs": [],
   "source": [
    "one_hot= np.concatenate(one_hot_list, axis=1)"
   ]
  },
  {
   "cell_type": "code",
   "execution_count": 17,
   "id": "20304008-9c71-4b5b-b51c-361c2cff9097",
   "metadata": {},
   "outputs": [
    {
     "data": {
      "text/plain": [
       "(89976, 135)"
      ]
     },
     "execution_count": 17,
     "metadata": {},
     "output_type": "execute_result"
    }
   ],
   "source": [
    "np.shape(one_hot)"
   ]
  },
  {
   "cell_type": "code",
   "execution_count": 18,
   "id": "ee2006dc-af35-4e23-a831-511e7a6295f9",
   "metadata": {},
   "outputs": [],
   "source": [
    "X = np.concatenate([df_numerics.values, one_hot], axis=1)"
   ]
  },
  {
   "cell_type": "code",
   "execution_count": 19,
   "id": "0a21d1bc-13ea-42aa-b1b5-2fcbe6de3d41",
   "metadata": {},
   "outputs": [
    {
     "data": {
      "text/plain": [
       "(89976, 161)"
      ]
     },
     "execution_count": 19,
     "metadata": {},
     "output_type": "execute_result"
    }
   ],
   "source": [
    "np.shape(X)"
   ]
  },
  {
   "cell_type": "markdown",
   "id": "ea5277eb-4d70-4913-ada1-6fc5efb30808",
   "metadata": {},
   "source": [
    "## 5.2 Model development"
   ]
  },
  {
   "cell_type": "code",
   "execution_count": 20,
   "id": "a4cc835a-712b-4638-8f7f-95a096e6020f",
   "metadata": {},
   "outputs": [],
   "source": [
    "y = df['default'].to_numpy()"
   ]
  },
  {
   "cell_type": "code",
   "execution_count": 21,
   "id": "7c891ede-a49f-4bde-a2fd-ee09f2489d49",
   "metadata": {},
   "outputs": [],
   "source": [
    "y = y.reshape(len(y),1)"
   ]
  },
  {
   "cell_type": "code",
   "execution_count": 22,
   "id": "724c1420-bbf4-4285-bc45-edc5bb049958",
   "metadata": {},
   "outputs": [
    {
     "data": {
      "text/plain": [
       "(89976, 1)"
      ]
     },
     "execution_count": 22,
     "metadata": {},
     "output_type": "execute_result"
    }
   ],
   "source": [
    "np.shape(y)"
   ]
  },
  {
   "cell_type": "code",
   "execution_count": 23,
   "id": "dc7bcccc-1ada-4d86-9ef2-2ce514c26a4b",
   "metadata": {},
   "outputs": [],
   "source": [
    "X_train = X[:-test_size].astype('float32')\n",
    "y_train = y[:-test_size]"
   ]
  },
  {
   "cell_type": "code",
   "execution_count": 24,
   "id": "a22b5722-6213-4482-afa8-0952cd19258c",
   "metadata": {},
   "outputs": [
    {
     "data": {
      "text/plain": [
       "(69976, 1)"
      ]
     },
     "execution_count": 24,
     "metadata": {},
     "output_type": "execute_result"
    }
   ],
   "source": [
    "np.shape(y_train)"
   ]
  },
  {
   "cell_type": "code",
   "execution_count": 25,
   "id": "5b70e445-bcae-45b0-ba25-d0cdfa739e82",
   "metadata": {},
   "outputs": [],
   "source": [
    "X_test = X[-test_size:].astype('float32')\n",
    "y_test = y[-test_size:]"
   ]
  },
  {
   "cell_type": "code",
   "execution_count": 111,
   "id": "cf81fccc-05ed-4ecd-82dc-49e61b8dc9a2",
   "metadata": {},
   "outputs": [],
   "source": [
    "model = models.Sequential()\n",
    "model.add(layers.Masking(mask_value=-1,input_shape=(np.shape(X)[1],)))\n",
    "model.add(layers.Dense(128, activation='relu', kernel_regularizer=regularizers.l1_l2(l1=1e-3, l2=1e-3)))\n",
    "model.add(layers.Dense(128, activation='relu', kernel_regularizer=regularizers.l1_l2(l1=1e-3, l2=1e-3)))\n",
    "model.add(layers.Dense(128, activation='relu', kernel_regularizer=regularizers.l1_l2(l1=1e-3, l2=1e-3)))\n",
    "model.add(layers.Dense(1, activation='sigmoid'))"
   ]
  },
  {
   "cell_type": "code",
   "execution_count": 112,
   "id": "a7e4e601-0f24-48ed-9b7a-63eeaceb22b3",
   "metadata": {},
   "outputs": [],
   "source": [
    "metrics_list = [\n",
    "    metrics.BinaryAccuracy(name='accuracy'),\n",
    "    metrics.Precision(name=\"precision\"),\n",
    "    metrics.Recall(name=\"recall\")\n",
    "]"
   ]
  },
  {
   "cell_type": "code",
   "execution_count": 113,
   "id": "a94de696-6ea9-472a-b5e8-b077d93bfb32",
   "metadata": {},
   "outputs": [],
   "source": [
    "opt = optimizers.Adam(learning_rate=0.001)"
   ]
  },
  {
   "cell_type": "code",
   "execution_count": 121,
   "id": "82161c33-c7ff-4af8-8c81-997ffa55f77a",
   "metadata": {},
   "outputs": [],
   "source": [
    "opt = optimizers.RMSprop(learning_rate=0.0001)"
   ]
  },
  {
   "cell_type": "code",
   "execution_count": 122,
   "id": "581fe09f-7ae1-4f92-a948-bbc4971aeba6",
   "metadata": {},
   "outputs": [],
   "source": [
    "model.compile(optimizer=opt,\n",
    "              loss='binary_crossentropy',\n",
    "              metrics=metrics_list)"
   ]
  },
  {
   "cell_type": "code",
   "execution_count": 123,
   "id": "c10069fb-e6b7-4ac8-8162-a71503ba41a6",
   "metadata": {},
   "outputs": [],
   "source": [
    "counts = df.groupby('default').default.count().to_numpy()"
   ]
  },
  {
   "cell_type": "code",
   "execution_count": 124,
   "id": "b5d554f1-fdc3-4a97-81a0-4f78bce5449d",
   "metadata": {},
   "outputs": [],
   "source": [
    "weight_for_0 = 1.0 / counts[0]\n",
    "weight_for_1 = 1.0 / counts[1]"
   ]
  },
  {
   "cell_type": "code",
   "execution_count": null,
   "id": "7c2bbd7e-8285-45ea-8452-db69c0f9fa56",
   "metadata": {
    "tags": []
   },
   "outputs": [
    {
     "name": "stdout",
     "output_type": "stream",
     "text": [
      "Epoch 1/10\n",
      "124/124 [==============================] - 3s 15ms/step - loss: 0.0043 - accuracy: 0.9854 - precision: 0.0000e+00 - recall: 0.0000e+00 - val_loss: 0.6745 - val_accuracy: 0.9844 - val_precision: 0.0000e+00 - val_recall: 0.0000e+00\n",
      "Epoch 2/10\n",
      "124/124 [==============================] - 1s 10ms/step - loss: 0.0026 - accuracy: 0.9862 - precision: 0.0000e+00 - recall: 0.0000e+00 - val_loss: 0.6754 - val_accuracy: 0.9844 - val_precision: 0.0000e+00 - val_recall: 0.0000e+00\n",
      "Epoch 3/10\n",
      "124/124 [==============================] - 1s 11ms/step - loss: 0.0026 - accuracy: 0.9862 - precision: 0.0000e+00 - recall: 0.0000e+00 - val_loss: 0.6760 - val_accuracy: 0.9844 - val_precision: 0.0000e+00 - val_recall: 0.0000e+00\n",
      "Epoch 4/10\n",
      " 51/124 [===========>..................] - ETA: 0s - loss: 0.0026 - accuracy: 0.9879 - precision: 0.0000e+00 - recall: 0.0000e+00"
     ]
    }
   ],
   "source": [
    "history = model.fit(X_train,\n",
    "                    y_train,\n",
    "                    epochs=10,\n",
    "                    batch_size=512,\n",
    "                    validation_split=0.1,\n",
    "                   class_weight = {0: weight_for_0, 1: weight_for_1})"
   ]
  },
  {
   "cell_type": "markdown",
   "id": "6f4c8426-ab88-4734-be13-e32cf7ca16ae",
   "metadata": {},
   "source": [
    "## 5.3 Performance evaluation"
   ]
  },
  {
   "cell_type": "code",
   "execution_count": 119,
   "id": "58ce68d3-1266-4369-95d7-04155678a382",
   "metadata": {},
   "outputs": [
    {
     "data": {
      "text/plain": [
       "dict_keys(['loss', 'accuracy', 'precision', 'recall', 'val_loss', 'val_accuracy', 'val_precision', 'val_recall'])"
      ]
     },
     "execution_count": 119,
     "metadata": {},
     "output_type": "execute_result"
    }
   ],
   "source": [
    "history.history.keys()"
   ]
  },
  {
   "cell_type": "code",
   "execution_count": 120,
   "id": "637e9faf-ada1-4bff-86db-1a9978436b26",
   "metadata": {},
   "outputs": [
    {
     "data": {
      "image/png": "[encoded data removed]",
      "text/plain": [
       "<Figure size 1440x720 with 1 Axes>"
      ]
     },
     "metadata": {
      "needs_background": "light"
     },
     "output_type": "display_data"
    },
    {
     "data": {
      "image/png": "[encoded data removed]",
      "text/plain": [
       "<Figure size 1440x720 with 1 Axes>"
      ]
     },
     "metadata": {
      "needs_background": "light"
     },
     "output_type": "display_data"
    },
    {
     "data": {
      "image/png": "[encoded data removed]",
      "text/plain": [
       "<Figure size 1440x720 with 1 Axes>"
      ]
     },
     "metadata": {
      "needs_background": "light"
     },
     "output_type": "display_data"
    },
    {
     "data": {
      "image/png": "[encoded data removed]",
      "text/plain": [
       "<Figure size 1440x720 with 1 Axes>"
      ]
     },
     "metadata": {
      "needs_background": "light"
     },
     "output_type": "display_data"
    }
   ],
   "source": [
    "for met in list(history.history.keys())[:4]:\n",
    "    training_metric = history.history[met]\n",
    "    validation_metric = history.history['val_'+met]\n",
    "\n",
    "    epochs = range(1, len(training_metric) + 1)\n",
    "\n",
    "    plt.figure(figsize=(20,10))\n",
    "    plt.grid()\n",
    "    plt.plot(epochs, training_metric, 'red', label='Training '+met)\n",
    "    plt.plot(epochs, validation_metric, 'blue', label='Validation ' +met)\n",
    "    plt.title('Training and validation ' + met)\n",
    "    plt.xlabel('Epochs')\n",
    "    plt.ylabel(met)\n",
    "    plt.legend()\n",
    "\n",
    "    plt.show()"
   ]
  },
  {
   "cell_type": "code",
   "execution_count": 110,
   "id": "42b9d4d2-74f6-4c09-a808-f03297a9b2e1",
   "metadata": {},
   "outputs": [
    {
     "name": "stdout",
     "output_type": "stream",
     "text": [
      "625/625 [==============================] - 2s 3ms/step - loss: 0.9301 - accuracy: 0.9851 - precision: 0.0000e+00 - recall: 0.0000e+00\n"
     ]
    }
   ],
   "source": [
    "model.evaluate(X_test, y_test);"
   ]
  },
  {
   "cell_type": "markdown",
   "id": "ef5117a7-5fb1-4b2b-a3a5-eb6f357a00f2",
   "metadata": {},
   "source": [
    "# 6. Prediction on unlabelled data"
   ]
  },
  {
   "cell_type": "code",
   "execution_count": 37,
   "id": "486faaba-9487-45b6-b95c-32dd53e8ca03",
   "metadata": {},
   "outputs": [
    {
     "data": {
      "text/html": [
       "<div>\n",
       "<style scoped>\n",
       "    .dataframe tbody tr th:only-of-type {\n",
       "        vertical-align: middle;\n",
       "    }\n",
       "\n",
       "    .dataframe tbody tr th {\n",
       "        vertical-align: top;\n",
       "    }\n",
       "\n",
       "    .dataframe thead th {\n",
       "        text-align: right;\n",
       "    }\n",
       "</style>\n",
       "<table border=\"1\" class=\"dataframe\">\n",
       "  <thead>\n",
       "    <tr style=\"text-align: right;\">\n",
       "      <th></th>\n",
       "      <th>uuid</th>\n",
       "      <th>default</th>\n",
       "      <th>account_amount_added_12_24m</th>\n",
       "      <th>account_days_in_dc_12_24m</th>\n",
       "      <th>account_days_in_rem_12_24m</th>\n",
       "      <th>account_days_in_term_12_24m</th>\n",
       "      <th>account_incoming_debt_vs_paid_0_24m</th>\n",
       "      <th>account_status</th>\n",
       "      <th>account_worst_status_0_3m</th>\n",
       "      <th>account_worst_status_12_24m</th>\n",
       "      <th>...</th>\n",
       "      <th>status_3rd_last_archived_0_24m</th>\n",
       "      <th>status_max_archived_0_6_months</th>\n",
       "      <th>status_max_archived_0_12_months</th>\n",
       "      <th>status_max_archived_0_24_months</th>\n",
       "      <th>recovery_debt</th>\n",
       "      <th>sum_capital_paid_account_0_12m</th>\n",
       "      <th>sum_capital_paid_account_12_24m</th>\n",
       "      <th>sum_paid_inv_0_12m</th>\n",
       "      <th>time_hours</th>\n",
       "      <th>worst_status_active_inv</th>\n",
       "    </tr>\n",
       "  </thead>\n",
       "  <tbody>\n",
       "    <tr>\n",
       "      <th>89976</th>\n",
       "      <td>6f6e6c6a-2081-4e6b-8eb3-4fd89b54b2d7</td>\n",
       "      <td>NaN</td>\n",
       "      <td>0</td>\n",
       "      <td>0.0</td>\n",
       "      <td>0.0</td>\n",
       "      <td>0.0</td>\n",
       "      <td>0.009135</td>\n",
       "      <td>1.0</td>\n",
       "      <td>1.0</td>\n",
       "      <td>NaN</td>\n",
       "      <td>...</td>\n",
       "      <td>1</td>\n",
       "      <td>1</td>\n",
       "      <td>1</td>\n",
       "      <td>1</td>\n",
       "      <td>0</td>\n",
       "      <td>8815</td>\n",
       "      <td>0</td>\n",
       "      <td>27157</td>\n",
       "      <td>19.895556</td>\n",
       "      <td>NaN</td>\n",
       "    </tr>\n",
       "    <tr>\n",
       "      <th>89977</th>\n",
       "      <td>f6f6d9f3-ef2b-4329-a388-c6a687f27e70</td>\n",
       "      <td>NaN</td>\n",
       "      <td>0</td>\n",
       "      <td>0.0</td>\n",
       "      <td>0.0</td>\n",
       "      <td>0.0</td>\n",
       "      <td>NaN</td>\n",
       "      <td>NaN</td>\n",
       "      <td>NaN</td>\n",
       "      <td>NaN</td>\n",
       "      <td>...</td>\n",
       "      <td>0</td>\n",
       "      <td>0</td>\n",
       "      <td>0</td>\n",
       "      <td>0</td>\n",
       "      <td>0</td>\n",
       "      <td>0</td>\n",
       "      <td>0</td>\n",
       "      <td>0</td>\n",
       "      <td>0.236667</td>\n",
       "      <td>NaN</td>\n",
       "    </tr>\n",
       "  </tbody>\n",
       "</table>\n",
       "<p>2 rows × 43 columns</p>\n",
       "</div>"
      ],
      "text/plain": [
       "                                       uuid  default  \\\n",
       "89976  6f6e6c6a-2081-4e6b-8eb3-4fd89b54b2d7      NaN   \n",
       "89977  f6f6d9f3-ef2b-4329-a388-c6a687f27e70      NaN   \n",
       "\n",
       "       account_amount_added_12_24m  account_days_in_dc_12_24m  \\\n",
       "89976                            0                        0.0   \n",
       "89977                            0                        0.0   \n",
       "\n",
       "       account_days_in_rem_12_24m  account_days_in_term_12_24m  \\\n",
       "89976                         0.0                          0.0   \n",
       "89977                         0.0                          0.0   \n",
       "\n",
       "       account_incoming_debt_vs_paid_0_24m  account_status  \\\n",
       "89976                             0.009135             1.0   \n",
       "89977                                  NaN             NaN   \n",
       "\n",
       "       account_worst_status_0_3m  account_worst_status_12_24m  ...  \\\n",
       "89976                        1.0                          NaN  ...   \n",
       "89977                        NaN                          NaN  ...   \n",
       "\n",
       "       status_3rd_last_archived_0_24m  status_max_archived_0_6_months  \\\n",
       "89976                               1                               1   \n",
       "89977                               0                               0   \n",
       "\n",
       "       status_max_archived_0_12_months  status_max_archived_0_24_months  \\\n",
       "89976                                1                                1   \n",
       "89977                                0                                0   \n",
       "\n",
       "       recovery_debt sum_capital_paid_account_0_12m  \\\n",
       "89976              0                           8815   \n",
       "89977              0                              0   \n",
       "\n",
       "      sum_capital_paid_account_12_24m  sum_paid_inv_0_12m  time_hours  \\\n",
       "89976                               0               27157   19.895556   \n",
       "89977                               0                   0    0.236667   \n",
       "\n",
       "       worst_status_active_inv  \n",
       "89976                      NaN  \n",
       "89977                      NaN  \n",
       "\n",
       "[2 rows x 43 columns]"
      ]
     },
     "execution_count": 37,
     "metadata": {},
     "output_type": "execute_result"
    }
   ],
   "source": [
    "unlabelled_df.head(2)"
   ]
  },
  {
   "cell_type": "code",
   "execution_count": 38,
   "id": "b430e375-9b36-4932-9b20-4e488b930676",
   "metadata": {},
   "outputs": [],
   "source": [
    "unlabelled_df = unlabelled_df.fillna(-1)"
   ]
  },
  {
   "cell_type": "code",
   "execution_count": 39,
   "id": "c1d2bc3c-6a19-43a1-a1eb-8a418ca6711d",
   "metadata": {},
   "outputs": [],
   "source": [
    "un_df_numerics = unlabelled_df[numerics_columns]\n",
    "n_rows = unlabelled_df.shape[0]"
   ]
  },
  {
   "cell_type": "code",
   "execution_count": 40,
   "id": "6bc63df0-923e-47a4-97db-834c542b405c",
   "metadata": {},
   "outputs": [],
   "source": [
    "one_hot_list = []\n",
    "for key, value in categories_dict.items():\n",
    "    indexes = unlabelled_df[key].apply(lambda x: value.index(x))\n",
    "    one_hot = np.zeros((n_rows, len(value)))\n",
    "    one_hot[range(n_rows), indexes] = 1\n",
    "    one_hot_list.append(one_hot)"
   ]
  },
  {
   "cell_type": "code",
   "execution_count": 41,
   "id": "2c8dfe98-5024-4ea8-9659-559069383c1d",
   "metadata": {},
   "outputs": [],
   "source": [
    "X_pred = np.concatenate([un_df_numerics] + one_hot_list, axis=1).astype('float32')\n",
    "y_pred = model.predict(X_pred)"
   ]
  },
  {
   "cell_type": "code",
   "execution_count": 42,
   "id": "50a72f5d-0777-4a1f-8511-ea91722a018b",
   "metadata": {},
   "outputs": [
    {
     "data": {
      "text/plain": [
       "0       6f6e6c6a-2081-4e6b-8eb3-4fd89b54b2d7\n",
       "1       f6f6d9f3-ef2b-4329-a388-c6a687f27e70\n",
       "2       e9c39869-1bc5-4375-b627-a2df70b445ea\n",
       "3       6beb88a3-9641-4381-beb6-c9a208664dd0\n",
       "4       bb89b735-72fe-42a4-ba06-d63be0f4ca36\n",
       "                        ...                 \n",
       "9995    5c03bc63-ea65-4ffd-aa7b-95ea9a46db34\n",
       "9996    f8db22f4-9819-420c-abbc-9ddf1843176e\n",
       "9997    b22e21ea-b1b2-4df3-b236-0ff6d5fdc0d8\n",
       "9998    bafcab15-9898-479c-b729-c9dda7edb78f\n",
       "9999    ac88f18c-96a6-49bc-9e9d-a780225914af\n",
       "Name: uuid, Length: 10000, dtype: object"
      ]
     },
     "execution_count": 42,
     "metadata": {},
     "output_type": "execute_result"
    }
   ],
   "source": [
    "unlabelled_df.uuid.reset_index().uuid"
   ]
  },
  {
   "cell_type": "code",
   "execution_count": 43,
   "id": "54948884-982c-4d64-9e85-1fe65478d11f",
   "metadata": {},
   "outputs": [],
   "source": [
    "predictions = pd.DataFrame(dict(\n",
    "    uuid =unlabelled_df.uuid.reset_index().uuid,\n",
    "    pr = pd.DataFrame(y_pred, columns=['pr']).reset_index().pr\n",
    "))"
   ]
  },
  {
   "cell_type": "code",
   "execution_count": 44,
   "id": "21ce742b-f361-4587-b6bb-7c2ccf6be212",
   "metadata": {},
   "outputs": [
    {
     "data": {
      "text/html": [
       "<div>\n",
       "<style scoped>\n",
       "    .dataframe tbody tr th:only-of-type {\n",
       "        vertical-align: middle;\n",
       "    }\n",
       "\n",
       "    .dataframe tbody tr th {\n",
       "        vertical-align: top;\n",
       "    }\n",
       "\n",
       "    .dataframe thead th {\n",
       "        text-align: right;\n",
       "    }\n",
       "</style>\n",
       "<table border=\"1\" class=\"dataframe\">\n",
       "  <thead>\n",
       "    <tr style=\"text-align: right;\">\n",
       "      <th></th>\n",
       "      <th>uuid</th>\n",
       "      <th>pr</th>\n",
       "    </tr>\n",
       "  </thead>\n",
       "  <tbody>\n",
       "    <tr>\n",
       "      <th>0</th>\n",
       "      <td>6f6e6c6a-2081-4e6b-8eb3-4fd89b54b2d7</td>\n",
       "      <td>4.232585e-03</td>\n",
       "    </tr>\n",
       "    <tr>\n",
       "      <th>1</th>\n",
       "      <td>f6f6d9f3-ef2b-4329-a388-c6a687f27e70</td>\n",
       "      <td>6.092600e-01</td>\n",
       "    </tr>\n",
       "    <tr>\n",
       "      <th>2</th>\n",
       "      <td>e9c39869-1bc5-4375-b627-a2df70b445ea</td>\n",
       "      <td>7.074895e-11</td>\n",
       "    </tr>\n",
       "    <tr>\n",
       "      <th>3</th>\n",
       "      <td>6beb88a3-9641-4381-beb6-c9a208664dd0</td>\n",
       "      <td>5.303838e-01</td>\n",
       "    </tr>\n",
       "    <tr>\n",
       "      <th>4</th>\n",
       "      <td>bb89b735-72fe-42a4-ba06-d63be0f4ca36</td>\n",
       "      <td>5.876030e-01</td>\n",
       "    </tr>\n",
       "  </tbody>\n",
       "</table>\n",
       "</div>"
      ],
      "text/plain": [
       "                                   uuid            pr\n",
       "0  6f6e6c6a-2081-4e6b-8eb3-4fd89b54b2d7  4.232585e-03\n",
       "1  f6f6d9f3-ef2b-4329-a388-c6a687f27e70  6.092600e-01\n",
       "2  e9c39869-1bc5-4375-b627-a2df70b445ea  7.074895e-11\n",
       "3  6beb88a3-9641-4381-beb6-c9a208664dd0  5.303838e-01\n",
       "4  bb89b735-72fe-42a4-ba06-d63be0f4ca36  5.876030e-01"
      ]
     },
     "execution_count": 44,
     "metadata": {},
     "output_type": "execute_result"
    }
   ],
   "source": [
    "predictions.head(5)"
   ]
  },
  {
   "cell_type": "code",
   "execution_count": 45,
   "id": "1f303869-2246-4bc0-8247-235a9956aef1",
   "metadata": {},
   "outputs": [],
   "source": [
    "predictions.to_csv(data_folder_path+output_file_name, sep=';', index=False)"
   ]
  },
  {
   "cell_type": "markdown",
   "id": "db74e228-5d61-4b8d-bec8-fa5f82fac79b",
   "metadata": {},
   "source": [
    "# 7. Model saving"
   ]
  },
  {
   "cell_type": "code",
   "execution_count": 46,
   "id": "414e9389-fe98-413c-b6ca-82864d83d2a7",
   "metadata": {},
   "outputs": [],
   "source": [
    "model.save(model_folder_path+'model.h5')"
   ]
  },
  {
   "cell_type": "code",
   "execution_count": 47,
   "id": "55758889-07c8-48eb-951c-ed5a0bb437fa",
   "metadata": {},
   "outputs": [],
   "source": [
    "with open(model_folder_path+'categories.txt', \"wb\") as fp:\n",
    "    pickle.dump(categories_dict, fp)"
   ]
  },
  {
   "cell_type": "code",
   "execution_count": 48,
   "id": "c3069c24-971e-42b0-acf9-45d9ddf60903",
   "metadata": {},
   "outputs": [],
   "source": [
    "with open(model_folder_path+'numerics_columns.txt', \"wb\") as fp:\n",
    "    pickle.dump(list(set(numerics_columns) & set(df.columns)), fp)"
   ]
  },
  {
   "cell_type": "code",
   "execution_count": null,
   "id": "a2f03cf4-e7c4-48bf-8542-52a53238a7c6",
   "metadata": {},
   "outputs": [],
   "source": []
  }
 ],
 "metadata": {
  "kernelspec": {
   "display_name": "Python 3 (ipykernel)",
   "language": "python",
   "name": "python3"
  },
  "language_info": {
   "codemirror_mode": {
    "name": "ipython",
    "version": 3
   },
   "file_extension": ".py",
   "mimetype": "text/x-python",
   "name": "python",
   "nbconvert_exporter": "python",
   "pygments_lexer": "ipython3",
   "version": "3.9.7"
  }
 },
 "nbformat": 4,
 "nbformat_minor": 5
}
